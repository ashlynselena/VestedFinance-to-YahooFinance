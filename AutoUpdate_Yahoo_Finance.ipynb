{
  "nbformat": 4,
  "nbformat_minor": 0,
  "metadata": {
    "colab": {
      "name": "AutoUpdate Yahoo Finance.ipynb",
      "provenance": [],
      "collapsed_sections": [],
      "include_colab_link": true
    },
    "kernelspec": {
      "name": "python3",
      "display_name": "Python 3"
    },
    "widgets": {
      "application/vnd.jupyter.widget-state+json": {
        "8c6a76143b814cf0b5f46847ad921b22": {
          "model_module": "@jupyter-widgets/controls",
          "model_name": "HBoxModel",
          "state": {
            "_view_name": "HBoxView",
            "_dom_classes": [],
            "_model_name": "HBoxModel",
            "_view_module": "@jupyter-widgets/controls",
            "_model_module_version": "1.5.0",
            "_view_count": null,
            "_view_module_version": "1.5.0",
            "box_style": "",
            "layout": "IPY_MODEL_aa4483825b3c4079bc4d329f5537f997",
            "_model_module": "@jupyter-widgets/controls",
            "children": [
              "IPY_MODEL_978d714d326b4265800e6e936f0d0d70",
              "IPY_MODEL_5fea304c99664c5fa1ecd38b0d691684"
            ]
          }
        },
        "aa4483825b3c4079bc4d329f5537f997": {
          "model_module": "@jupyter-widgets/base",
          "model_name": "LayoutModel",
          "state": {
            "_view_name": "LayoutView",
            "grid_template_rows": null,
            "right": null,
            "justify_content": null,
            "_view_module": "@jupyter-widgets/base",
            "overflow": null,
            "_model_module_version": "1.2.0",
            "_view_count": null,
            "flex_flow": null,
            "width": null,
            "min_width": null,
            "border": null,
            "align_items": null,
            "bottom": null,
            "_model_module": "@jupyter-widgets/base",
            "top": null,
            "grid_column": null,
            "overflow_y": null,
            "overflow_x": null,
            "grid_auto_flow": null,
            "grid_area": null,
            "grid_template_columns": null,
            "flex": null,
            "_model_name": "LayoutModel",
            "justify_items": null,
            "grid_row": null,
            "max_height": null,
            "align_content": null,
            "visibility": null,
            "align_self": null,
            "height": null,
            "min_height": null,
            "padding": null,
            "grid_auto_rows": null,
            "grid_gap": null,
            "max_width": null,
            "order": null,
            "_view_module_version": "1.2.0",
            "grid_template_areas": null,
            "object_position": null,
            "object_fit": null,
            "grid_auto_columns": null,
            "margin": null,
            "display": null,
            "left": null
          }
        },
        "978d714d326b4265800e6e936f0d0d70": {
          "model_module": "@jupyter-widgets/controls",
          "model_name": "FloatProgressModel",
          "state": {
            "_view_name": "ProgressView",
            "style": "IPY_MODEL_1ba902c3865b4c1cb1584cfde69c89d4",
            "_dom_classes": [],
            "description": "100%",
            "_model_name": "FloatProgressModel",
            "bar_style": "success",
            "max": 1652,
            "_view_module": "@jupyter-widgets/controls",
            "_model_module_version": "1.5.0",
            "value": 1652,
            "_view_count": null,
            "_view_module_version": "1.5.0",
            "orientation": "horizontal",
            "min": 0,
            "description_tooltip": null,
            "_model_module": "@jupyter-widgets/controls",
            "layout": "IPY_MODEL_83ff8d80e9cd438aabfd7341ace996fe"
          }
        },
        "5fea304c99664c5fa1ecd38b0d691684": {
          "model_module": "@jupyter-widgets/controls",
          "model_name": "HTMLModel",
          "state": {
            "_view_name": "HTMLView",
            "style": "IPY_MODEL_fbf8bd431f8847c48ffd3d569f949bb0",
            "_dom_classes": [],
            "description": "",
            "_model_name": "HTMLModel",
            "placeholder": "​",
            "_view_module": "@jupyter-widgets/controls",
            "_model_module_version": "1.5.0",
            "value": " 1652/1652 [03:02&lt;00:00,  9.05it/s]",
            "_view_count": null,
            "_view_module_version": "1.5.0",
            "description_tooltip": null,
            "_model_module": "@jupyter-widgets/controls",
            "layout": "IPY_MODEL_c50e5cf3655140c4aff04480ac3304f3"
          }
        },
        "1ba902c3865b4c1cb1584cfde69c89d4": {
          "model_module": "@jupyter-widgets/controls",
          "model_name": "ProgressStyleModel",
          "state": {
            "_view_name": "StyleView",
            "_model_name": "ProgressStyleModel",
            "description_width": "initial",
            "_view_module": "@jupyter-widgets/base",
            "_model_module_version": "1.5.0",
            "_view_count": null,
            "_view_module_version": "1.2.0",
            "bar_color": null,
            "_model_module": "@jupyter-widgets/controls"
          }
        },
        "83ff8d80e9cd438aabfd7341ace996fe": {
          "model_module": "@jupyter-widgets/base",
          "model_name": "LayoutModel",
          "state": {
            "_view_name": "LayoutView",
            "grid_template_rows": null,
            "right": null,
            "justify_content": null,
            "_view_module": "@jupyter-widgets/base",
            "overflow": null,
            "_model_module_version": "1.2.0",
            "_view_count": null,
            "flex_flow": null,
            "width": null,
            "min_width": null,
            "border": null,
            "align_items": null,
            "bottom": null,
            "_model_module": "@jupyter-widgets/base",
            "top": null,
            "grid_column": null,
            "overflow_y": null,
            "overflow_x": null,
            "grid_auto_flow": null,
            "grid_area": null,
            "grid_template_columns": null,
            "flex": null,
            "_model_name": "LayoutModel",
            "justify_items": null,
            "grid_row": null,
            "max_height": null,
            "align_content": null,
            "visibility": null,
            "align_self": null,
            "height": null,
            "min_height": null,
            "padding": null,
            "grid_auto_rows": null,
            "grid_gap": null,
            "max_width": null,
            "order": null,
            "_view_module_version": "1.2.0",
            "grid_template_areas": null,
            "object_position": null,
            "object_fit": null,
            "grid_auto_columns": null,
            "margin": null,
            "display": null,
            "left": null
          }
        },
        "fbf8bd431f8847c48ffd3d569f949bb0": {
          "model_module": "@jupyter-widgets/controls",
          "model_name": "DescriptionStyleModel",
          "state": {
            "_view_name": "StyleView",
            "_model_name": "DescriptionStyleModel",
            "description_width": "",
            "_view_module": "@jupyter-widgets/base",
            "_model_module_version": "1.5.0",
            "_view_count": null,
            "_view_module_version": "1.2.0",
            "_model_module": "@jupyter-widgets/controls"
          }
        },
        "c50e5cf3655140c4aff04480ac3304f3": {
          "model_module": "@jupyter-widgets/base",
          "model_name": "LayoutModel",
          "state": {
            "_view_name": "LayoutView",
            "grid_template_rows": null,
            "right": null,
            "justify_content": null,
            "_view_module": "@jupyter-widgets/base",
            "overflow": null,
            "_model_module_version": "1.2.0",
            "_view_count": null,
            "flex_flow": null,
            "width": null,
            "min_width": null,
            "border": null,
            "align_items": null,
            "bottom": null,
            "_model_module": "@jupyter-widgets/base",
            "top": null,
            "grid_column": null,
            "overflow_y": null,
            "overflow_x": null,
            "grid_auto_flow": null,
            "grid_area": null,
            "grid_template_columns": null,
            "flex": null,
            "_model_name": "LayoutModel",
            "justify_items": null,
            "grid_row": null,
            "max_height": null,
            "align_content": null,
            "visibility": null,
            "align_self": null,
            "height": null,
            "min_height": null,
            "padding": null,
            "grid_auto_rows": null,
            "grid_gap": null,
            "max_width": null,
            "order": null,
            "_view_module_version": "1.2.0",
            "grid_template_areas": null,
            "object_position": null,
            "object_fit": null,
            "grid_auto_columns": null,
            "margin": null,
            "display": null,
            "left": null
          }
        }
      }
    }
  },
  "cells": [
    {
      "cell_type": "markdown",
      "metadata": {
        "id": "view-in-github",
        "colab_type": "text"
      },
      "source": [
        "<a href=\"https://colab.research.google.com/github/ashlynselena/VestedFinance-to-YahooFinance/blob/main/AutoUpdate_Yahoo_Finance.ipynb\" target=\"_parent\"><img src=\"https://colab.research.google.com/assets/colab-badge.svg\" alt=\"Open In Colab\"/></a>"
      ]
    },
    {
      "cell_type": "markdown",
      "metadata": {
        "id": "kanupHnDJktK"
      },
      "source": [
        "## **STEPS:**\n",
        "\n",
        "\n",
        "1.   Copy entire transaction history from vested.com\n",
        "2.   Paste in excel sheet\n",
        "3.   Save excel sheet in **csv format** as \"VESTED HISTORY.csv\"\n",
        "4.   On this page, click on the flie symbol on the left bar\n",
        "5.   Wait for it to connect...\n",
        "6.   Click on file upload icon on the left tab (File with arrow icon)\n",
        "7.   Upload the **\"VESTED HISTORY.csv\"** file and the **'ticker_list.csv'** files\n",
        "8.   Once they have finished uploading, click Runtime on the top toolbar\n",
        "9.   Select **Run All**\n",
        "10.  Once it is done running, click the file refresh button on the left tab ( file with circle arrow)\n",
        "11.  A new file named **\"output.csv\"** should appear\n",
        "12.  click on the three dots on the side on the \"output.csv\" and select download\n",
        "13.  Delete column A with the index numbers\n",
        "14.  Edit stocks with splits (if required)\n",
        "15.  Save and import to yahoo finance\n",
        "\n"
      ]
    },
    {
      "cell_type": "code",
      "metadata": {
        "id": "4EV71ppFX81f"
      },
      "source": [
        "import pandas as  pd\n",
        "import re"
      ],
      "execution_count": null,
      "outputs": []
    },
    {
      "cell_type": "code",
      "metadata": {
        "id": "1FRLIZKhYvWV"
      },
      "source": [
        "df=pd.read_csv(\"VESTED HISTORY.csv\",header=None)\n",
        "\n",
        "# yahoo=pd.read_csv(\"quotes (2).csv\")\n"
      ],
      "execution_count": null,
      "outputs": []
    },
    {
      "cell_type": "code",
      "metadata": {
        "id": "BXxV8JUM_S2N"
      },
      "source": [
        "columns=[\"Symbol\",\"Current Price\",\"Date\",\"Time\",\"Change\",\"Open\",\"High\",\"Low\",\"Volume\",\"Trade Date\",\"Purchase Price\",\"Quantity\",\"Commission\",\"High limit\",\"Low Limit\",\"Comment\"]"
      ],
      "execution_count": null,
      "outputs": []
    },
    {
      "cell_type": "code",
      "metadata": {
        "id": "wZp6FgnwMZhQ"
      },
      "source": [
        "def CompanySymbol():\n",
        "  cnames = pd.read_csv('ticker_list.csv') \n",
        "  cnames_dict = pd.Series(cnames.Ticker.values, index=cnames.Name.values).to_dict()\n",
        "  return cnames_dict"
      ],
      "execution_count": null,
      "outputs": []
    },
    {
      "cell_type": "code",
      "metadata": {
        "id": "ughqguP7WH1X",
        "colab": {
          "base_uri": "https://localhost:8080/"
        },
        "outputId": "8beaf3f1-bf8c-49a7-d27d-5e2d8a3dba2e"
      },
      "source": [
        "# !pip install fuzzywuzzy\n",
        "# !pip install python-Levenshtein"
      ],
      "execution_count": null,
      "outputs": [
        {
          "output_type": "stream",
          "text": [
            "Collecting fuzzywuzzy\n",
            "  Downloading https://files.pythonhosted.org/packages/43/ff/74f23998ad2f93b945c0309f825be92e04e0348e062026998b5eefef4c33/fuzzywuzzy-0.18.0-py2.py3-none-any.whl\n",
            "Installing collected packages: fuzzywuzzy\n",
            "Successfully installed fuzzywuzzy-0.18.0\n",
            "Collecting python-Levenshtein\n",
            "\u001b[?25l  Downloading https://files.pythonhosted.org/packages/42/a9/d1785c85ebf9b7dfacd08938dd028209c34a0ea3b1bcdb895208bd40a67d/python-Levenshtein-0.12.0.tar.gz (48kB)\n",
            "\u001b[K     |████████████████████████████████| 51kB 1.6MB/s \n",
            "\u001b[?25hRequirement already satisfied: setuptools in /usr/local/lib/python3.6/dist-packages (from python-Levenshtein) (50.3.2)\n",
            "Building wheels for collected packages: python-Levenshtein\n",
            "  Building wheel for python-Levenshtein (setup.py) ... \u001b[?25l\u001b[?25hdone\n",
            "  Created wheel for python-Levenshtein: filename=python_Levenshtein-0.12.0-cp36-cp36m-linux_x86_64.whl size=144802 sha256=e59c5b5e5102b61fc3aa7538c819a882ee59e518ad4b3ca4972540874c21bc83\n",
            "  Stored in directory: /root/.cache/pip/wheels/de/c2/93/660fd5f7559049268ad2dc6d81c4e39e9e36518766eaf7e342\n",
            "Successfully built python-Levenshtein\n",
            "Installing collected packages: python-Levenshtein\n",
            "Successfully installed python-Levenshtein-0.12.0\n"
          ],
          "name": "stdout"
        }
      ]
    },
    {
      "cell_type": "code",
      "metadata": {
        "id": "UsWN8Sficc8A",
        "colab": {
          "base_uri": "https://localhost:8080/",
          "height": 83,
          "referenced_widgets": [
            "8c6a76143b814cf0b5f46847ad921b22",
            "aa4483825b3c4079bc4d329f5537f997",
            "978d714d326b4265800e6e936f0d0d70",
            "5fea304c99664c5fa1ecd38b0d691684",
            "1ba902c3865b4c1cb1584cfde69c89d4",
            "83ff8d80e9cd438aabfd7341ace996fe",
            "fbf8bd431f8847c48ffd3d569f949bb0",
            "c50e5cf3655140c4aff04480ac3304f3"
          ]
        },
        "outputId": "42b6de09-e5d7-4466-cb2b-6380147deca0"
      },
      "source": [
        "from fuzzywuzzy import process\n",
        "import datetime\n",
        "\n",
        "cnames_dict = CompanySymbol()\n",
        "keys=cnames_dict.keys()\n",
        "\n",
        "new_list=[]\n",
        "NaN=\"\"\n",
        "deposit=0\n",
        "from tqdm.notebook import tqdm as tqdm\n",
        "for i in tqdm(range(len(df[0]))):\n",
        "  pass\n",
        "  if (re.search(r'^[a-zA-Z]',df[0][i])):\n",
        "    words=df[0][i].split(\" \")\n",
        "    if(words[-1]==\"Buy\" and words[-2]==\"MARKET\"):\n",
        "      key = process.extractOne(df[0][i].split(\"MARKET\")[0], keys)\n",
        "      symbol = cnames_dict[key[0]]\n",
        "      #print(df[0][i:i+5])\n",
        "      date = datetime.datetime.strptime(df[0][i+1], '%d-%b-%y')\n",
        "      trade_date=date.strftime('%Y%m%d')\n",
        "      purchase_pr = df[0][i+3].split('$')[1].split('/')[0]\n",
        "      quant = df[0][i+4].split(\" \")[0]\n",
        "      new_row={\"Symbol\":symbol,\"Current Price\":NaN,\"Date\":NaN,\"Time\":NaN,\"Change\":NaN,\"Open\":NaN,\"High\":NaN,\"Low\":NaN,\"Volume\":NaN,\"Trade Date\":trade_date,\"Purchase Price\":purchase_pr,\"Quantity\":quant,\"Commission\":NaN,\"High limit\":NaN,\"Low Limit\":NaN,\"Comment\":NaN}\n",
        "      new_list.append(new_row)\n",
        "      i=i+4\n",
        "\n",
        "    elif(words[-1]==\"Sell\" and words[-2]==\"MARKET\"):\n",
        "      key = process.extractOne(df[0][i].split(\"MARKET\")[0], keys)\n",
        "      symbol = cnames_dict[key[0]]\n",
        "      #print(df[0][i:i+5])\n",
        "      date = datetime.datetime.strptime(df[0][i+1], '%d-%b-%y')\n",
        "      trade_date=date.strftime('%Y%m%d')\n",
        "      purchase_pr = df[0][i+3].split('$')[1].split('/')[0]\n",
        "      quant =\"-\"+ df[0][i+4].split(\" \")[0]\n",
        "      new_row={\"Symbol\":symbol,\"Current Price\":NaN,\"Date\":NaN,\"Time\":NaN,\"Change\":NaN,\"Open\":NaN,\"High\":NaN,\"Low\":NaN,\"Volume\":NaN,\"Trade Date\":trade_date,\"Purchase Price\":purchase_pr,\"Quantity\":quant,\"Commission\":NaN,\"High limit\":NaN,\"Low Limit\":NaN,\"Comment\":\"Sell\"}\n",
        "      new_list.append(new_row)\n",
        "      i=i+4\n",
        "      \n",
        "    elif(words[-1]==\"Sell\" or words[-1]==\"Buy\"):\n",
        "      #have to implement for limit buy and sell\n",
        "      print(\"************************************************************************************\")\n",
        "\n",
        "    elif(words[-1]==\"Deposit\"):\n",
        "      deposit+=float(df[0][i+2].replace(',','').replace('$',''))\n",
        "      i+=2\n",
        "print(\"Deposited Amount:{}\".format(deposit))"
      ],
      "execution_count": null,
      "outputs": [
        {
          "output_type": "display_data",
          "data": {
            "application/vnd.jupyter.widget-view+json": {
              "model_id": "8c6a76143b814cf0b5f46847ad921b22",
              "version_minor": 0,
              "version_major": 2
            },
            "text/plain": [
              "HBox(children=(FloatProgress(value=0.0, max=1652.0), HTML(value='')))"
            ]
          },
          "metadata": {
            "tags": []
          }
        },
        {
          "output_type": "stream",
          "text": [
            "\n",
            "Deposited Amount:15875.599999999999\n"
          ],
          "name": "stdout"
        }
      ]
    },
    {
      "cell_type": "code",
      "metadata": {
        "id": "WGvyTb_9q_yy"
      },
      "source": [
        "new_df = pd.DataFrame(new_list)\n",
        "new_df=new_df.reset_index(drop=True)\n",
        "# new_df"
      ],
      "execution_count": null,
      "outputs": []
    },
    {
      "cell_type": "code",
      "metadata": {
        "id": "s3zA5Z3_taIk"
      },
      "source": [
        "# yahoo.append(new_df,ignore_index=True)"
      ],
      "execution_count": null,
      "outputs": []
    },
    {
      "cell_type": "code",
      "metadata": {
        "id": "GZAusmwuwGjR"
      },
      "source": [
        "new_df.to_csv(\"output.csv\")"
      ],
      "execution_count": null,
      "outputs": []
    },
    {
      "cell_type": "code",
      "metadata": {
        "id": "LPhgKo-aw0iU"
      },
      "source": [
        "# vertical_stack = pd.concat([yahoo, new_df], axis=0)\n",
        "# vertical_stack.to_csv(\"output2.csv\")"
      ],
      "execution_count": null,
      "outputs": []
    }
  ]
}